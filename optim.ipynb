{
 "cells": [
  {
   "cell_type": "code",
   "execution_count": 5,
   "metadata": {},
   "outputs": [
    {
     "name": "stdout",
     "output_type": "stream",
     "text": [
      "{'id': 0, 'start': 1, 'end': [{'func': 'time-after', 'params': 4}]}\n",
      "{'id': 1, 'start': [{'func': 'after-task', 'params': [0, 'end']}], 'end': [{'func': 'time-after', 'params': 40}]}\n",
      "{'id': 2, 'start': [{'func': 'after-task', 'params': [0, 'end']}], 'end': [{'func': 'time-after', 'params': {'func': 'random_normal', 'params': [15, 0]}}]}\n",
      "{'id': 3, 'start': [{'func': 'after-task', 'params': [2, 'end']}], 'end': [{'func': 'time-after', 'params': {'func': 'random_normal', 'params': [8, 0]}}]}\n",
      "{'id': 4, 'start': [{'func': 'after-task', 'params': [2, 'end']}], 'end': [{'func': 'time-after', 'params': {'func': 'random_normal', 'params': [16, 0]}}]}\n",
      "{'id': 5, 'start': [{'func': 'after-task', 'params': [3, 'end']}, {'func': 'after-task', 'params': [4, 'end']}, {'func': 'after-task', 'params': [11, 'end']}], 'end': [{'func': 'time-after', 'params': {'func': 'random_normal', 'params': [15, 0]}}]}\n",
      "{'id': 6, 'start': [{'func': 'after-task', 'params': [0, 'end']}], 'end': [{'func': 'time-after', 'params': {'func': 'random_normal', 'params': [10, 0]}}]}\n",
      "{'id': 7, 'start': [{'func': 'after-task', 'params': [6, 'end']}], 'end': [{'func': 'time-after', 'params': {'func': 'random_normal', 'params': [35, 0]}}]}\n",
      "{'id': 8, 'start': [{'func': 'after-task', 'params': [6, 'end']}], 'end': [{'func': 'time-after', 'params': {'func': 'random_normal', 'params': [25, 0]}}]}\n",
      "{'id': 9, 'start': [{'func': 'after-task', 'params': [7, 'end']}, {'func': 'after-task', 'params': [8, 'end']}, {'func': 'after-task', 'params': [11, 'end']}], 'end': [{'func': 'time-after', 'params': {'func': 'random_normal', 'params': [8, 0]}}]}\n",
      "{'id': 10, 'start': [{'func': 'after-task', 'params': [0, 'end']}], 'end': [{'func': 'time-after', 'params': {'func': 'random_normal', 'params': [15, 0]}}]}\n",
      "{'id': 11, 'start': [{'func': 'after-task', 'params': [10, 'end']}], 'end': [{'func': 'time-after', 'params': {'func': 'random_normal', 'params': [5, 0]}}]}\n",
      "{'id': 12, 'start': [{'func': 'after-task', 'params': [11, 'end']}], 'end': [{'func': 'time-after', 'params': {'func': 'random_normal', 'params': [15, 0]}}]}\n",
      "{'id': 13, 'start': [{'func': 'after-task', 'params': [0, 'end']}], 'end': [{'func': 'time-after', 'params': {'func': 'random_normal', 'params': [15, 0]}}]}\n",
      "{'id': 14, 'start': [{'func': 'after-task', 'params': [13, 'end']}], 'end': [{'func': 'time-after', 'params': {'func': 'random_normal', 'params': [5, 0]}}]}\n",
      "{'id': 15, 'start': [{'func': 'after-task', 'params': [14, 'end']}], 'end': [{'func': 'time-after', 'params': {'func': 'random_normal', 'params': [8, 0]}}]}\n",
      "{'id': 16, 'start': [{'func': 'after-task', 'params': [15, 'end']}], 'end': [{'func': 'time-after', 'params': {'func': 'random_normal', 'params': [8, 0]}}]}\n",
      "{'id': 17, 'start': [{'func': 'after-task', 'params': [1, 'end']}, {'func': 'after-task', 'params': [5, 'end']}, {'func': 'after-task', 'params': [9, 'end']}, {'func': 'after-task', 'params': [12, 'end']}, {'func': 'after-task', 'params': [16, 'end']}], 'end': [{'func': 'time-after', 'params': {'func': 'random_normal', 'params': [10, 0]}}]}\n",
      "{'id': 18, 'start': [{'func': 'after-task', 'params': [17, 'end']}], 'end': [{'func': 'time-after', 'params': {'func': 'random_normal', 'params': [5, 0]}}]}\n",
      "{'id': 19, 'start': [{'func': 'after-task', 'params': [17, 'end']}], 'end': [{'func': 'time-after', 'params': {'func': 'random_normal', 'params': [3, 0]}}]}\n"
     ]
    }
   ],
   "source": [
    "import pandas as pd\n",
    "import numpy as np\n",
    "import json\n",
    "# an optimization script to shorten service time\n",
    "\n",
    "# 1 read single aircraft services from input.json\n",
    "with open('input.json') as f:\n",
    "    aircraft_services = json.load(f)['services']\n",
    "\n",
    "\n",
    "for service in aircraft_services:\n",
    "    print(service)\n",
    "\n",
    "# 2 define service crew\n",
    "crew = {\"a\":4, \"b\":4, \"c\":4, \"d\":4}\n",
    "\n",
    "# define a single task with 4 aircrafts\n",
    "all_services = []\n",
    "\n",
    "\n",
    "\n"
   ]
  }
 ],
 "metadata": {
  "kernelspec": {
   "display_name": "base",
   "language": "python",
   "name": "python3"
  },
  "language_info": {
   "codemirror_mode": {
    "name": "ipython",
    "version": 3
   },
   "file_extension": ".py",
   "mimetype": "text/x-python",
   "name": "python",
   "nbconvert_exporter": "python",
   "pygments_lexer": "ipython3",
   "version": "3.10.14"
  }
 },
 "nbformat": 4,
 "nbformat_minor": 2
}
